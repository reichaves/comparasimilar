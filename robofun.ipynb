{
 "cells": [
  {
   "cell_type": "code",
   "execution_count": 22,
   "metadata": {},
   "outputs": [],
   "source": [
    "# Reinaldo Chaves"
   ]
  },
  {
   "cell_type": "code",
   "execution_count": 23,
   "metadata": {},
   "outputs": [],
   "source": [
    "# Trabalho para a Repórter Brasil"
   ]
  },
  {
   "cell_type": "code",
   "execution_count": null,
   "metadata": {},
   "outputs": [],
   "source": []
  },
  {
   "cell_type": "code",
   "execution_count": 1,
   "metadata": {},
   "outputs": [],
   "source": [
    "import pandas as pd"
   ]
  },
  {
   "cell_type": "code",
   "execution_count": 2,
   "metadata": {},
   "outputs": [],
   "source": [
    "from difflib import SequenceMatcher"
   ]
  },
  {
   "cell_type": "code",
   "execution_count": null,
   "metadata": {},
   "outputs": [],
   "source": []
  },
  {
   "cell_type": "code",
   "execution_count": null,
   "metadata": {},
   "outputs": [],
   "source": [
    "# bases usadas estao no repositorio de busca de pedidos e respostas do governo federal: http://www.acessoainformacao.gov.br/assuntos/busca-de-pedidos-e-respostas/busca-de-pedidos-e-respostas"
   ]
  },
  {
   "cell_type": "code",
   "execution_count": null,
   "metadata": {},
   "outputs": [],
   "source": [
    "# sao dados da PGFN - Procuradoria-Geral da Fazenda Nacional"
   ]
  },
  {
   "cell_type": "code",
   "execution_count": null,
   "metadata": {},
   "outputs": [],
   "source": []
  },
  {
   "cell_type": "code",
   "execution_count": 24,
   "metadata": {},
   "outputs": [],
   "source": [
    "# carrega dataframe com dividas de deputados com o INSS"
   ]
  },
  {
   "cell_type": "code",
   "execution_count": 25,
   "metadata": {},
   "outputs": [],
   "source": [
    "dividas_dep = pd.read_csv(\"dividas_deputados_ajustado_csv.csv\",sep=';',encoding = 'latin_1', decimal = \",\")"
   ]
  },
  {
   "cell_type": "code",
   "execution_count": 6,
   "metadata": {},
   "outputs": [
    {
     "data": {
      "text/html": [
       "<div>\n",
       "<style scoped>\n",
       "    .dataframe tbody tr th:only-of-type {\n",
       "        vertical-align: middle;\n",
       "    }\n",
       "\n",
       "    .dataframe tbody tr th {\n",
       "        vertical-align: top;\n",
       "    }\n",
       "\n",
       "    .dataframe thead th {\n",
       "        text-align: right;\n",
       "    }\n",
       "</style>\n",
       "<table border=\"1\" class=\"dataframe\">\n",
       "  <thead>\n",
       "    <tr style=\"text-align: right;\">\n",
       "      <th></th>\n",
       "      <th>index</th>\n",
       "      <th>CPF_Deputado</th>\n",
       "      <th>CPF_limpo</th>\n",
       "      <th>Nome_Deputado</th>\n",
       "      <th>Vinculo</th>\n",
       "      <th>CNPJ_Devedor</th>\n",
       "      <th>CNPJ_limpo</th>\n",
       "      <th>Nome_Devedor</th>\n",
       "      <th>Valores_situacao_Irregular</th>\n",
       "      <th>Valores_situacao_Regular</th>\n",
       "      <th>Total_Devido</th>\n",
       "    </tr>\n",
       "  </thead>\n",
       "  <tbody>\n",
       "    <tr>\n",
       "      <th>0</th>\n",
       "      <td>0</td>\n",
       "      <td>003.527.486-72</td>\n",
       "      <td>352748672</td>\n",
       "      <td>BONIFACIO JOSE TAMM DE ANDRADA</td>\n",
       "      <td>SOCIO</td>\n",
       "      <td>17.080.201/0001-49</td>\n",
       "      <td>17080201000149</td>\n",
       "      <td>RADIO CORREIO DA SERRA LTDA - ME</td>\n",
       "      <td>NaN</td>\n",
       "      <td>174685.85</td>\n",
       "      <td>174685.85</td>\n",
       "    </tr>\n",
       "    <tr>\n",
       "      <th>1</th>\n",
       "      <td>1</td>\n",
       "      <td>005.648.349-04</td>\n",
       "      <td>564834904</td>\n",
       "      <td>NELSON MEURER</td>\n",
       "      <td>PRESIDENTE</td>\n",
       "      <td>76.205.723/0001-99</td>\n",
       "      <td>76205723000199</td>\n",
       "      <td>COOPERATIVA DE ELETRIFICACAO RURAL DE FBO LIMI...</td>\n",
       "      <td>NaN</td>\n",
       "      <td>284281.14</td>\n",
       "      <td>284281.14</td>\n",
       "    </tr>\n",
       "    <tr>\n",
       "      <th>2</th>\n",
       "      <td>2</td>\n",
       "      <td>006.053.872-49</td>\n",
       "      <td>605387249</td>\n",
       "      <td>ELCIONE THEREZINHA ZAHLUTH BARBALHO</td>\n",
       "      <td>SOCIO</td>\n",
       "      <td>04.218.335/0001-31</td>\n",
       "      <td>4218335000131</td>\n",
       "      <td>DIARIOS DO PARA LTDA</td>\n",
       "      <td>10257674.85</td>\n",
       "      <td>6320913.48</td>\n",
       "      <td>16578588.33</td>\n",
       "    </tr>\n",
       "    <tr>\n",
       "      <th>3</th>\n",
       "      <td>3</td>\n",
       "      <td>006.053.872-49</td>\n",
       "      <td>605387249</td>\n",
       "      <td>ELCIONE THEREZINHA ZAHLUTH BARBALHO</td>\n",
       "      <td>SOCIO</td>\n",
       "      <td>04.885.828/0001-25</td>\n",
       "      <td>4885828000125</td>\n",
       "      <td>RADIO CLUBE DO PARA PRC5 LIMITADA - EPP</td>\n",
       "      <td>3061308.08</td>\n",
       "      <td>NaN</td>\n",
       "      <td>3061308.08</td>\n",
       "    </tr>\n",
       "    <tr>\n",
       "      <th>4</th>\n",
       "      <td>4</td>\n",
       "      <td>006.053.872-49</td>\n",
       "      <td>605387249</td>\n",
       "      <td>ELCIONE THEREZINHA ZAHLUTH BARBALHO</td>\n",
       "      <td>SOCIO</td>\n",
       "      <td>05.143.490/0001-07</td>\n",
       "      <td>5143490000107</td>\n",
       "      <td>RBA REDE BRASIL AMAZONIA DE TELEVISAO LTDA</td>\n",
       "      <td>16551229.90</td>\n",
       "      <td>NaN</td>\n",
       "      <td>16551229.90</td>\n",
       "    </tr>\n",
       "    <tr>\n",
       "      <th>5</th>\n",
       "      <td>5</td>\n",
       "      <td>006.490.396-61</td>\n",
       "      <td>649039661</td>\n",
       "      <td>MARCELO HENRIQUE TEIXEIRA DIAS</td>\n",
       "      <td>SOCIO ADMINISTRADOR</td>\n",
       "      <td>26.349.217/0001-03</td>\n",
       "      <td>26349217000103</td>\n",
       "      <td>VOICELIDER SOLUCOES EM TECNOLOGIA LTDA - ME</td>\n",
       "      <td>57041.10</td>\n",
       "      <td>NaN</td>\n",
       "      <td>57041.10</td>\n",
       "    </tr>\n",
       "    <tr>\n",
       "      <th>6</th>\n",
       "      <td>6</td>\n",
       "      <td>010.557.374-48</td>\n",
       "      <td>1055737448</td>\n",
       "      <td>PEDRO TORRES BRANDAO VILELA</td>\n",
       "      <td>SOCIO ADMINISTRADOR</td>\n",
       "      <td>12.480.976/0001-98</td>\n",
       "      <td>12480976000198</td>\n",
       "      <td>AGROPECUARIA INDIANA LTDA</td>\n",
       "      <td>NaN</td>\n",
       "      <td>53858.82</td>\n",
       "      <td>53858.82</td>\n",
       "    </tr>\n",
       "    <tr>\n",
       "      <th>7</th>\n",
       "      <td>7</td>\n",
       "      <td>011.021.253-34</td>\n",
       "      <td>1102125334</td>\n",
       "      <td>JULIO CESAR DE CARVALHO LIMA</td>\n",
       "      <td>SOCIO ADMINISTRADOR</td>\n",
       "      <td>07.249.030/0001-85</td>\n",
       "      <td>7249030000185</td>\n",
       "      <td>TROPICAL FRUTOS CANAA LTDA - ME</td>\n",
       "      <td>NaN</td>\n",
       "      <td>180940.21</td>\n",
       "      <td>180940.21</td>\n",
       "    </tr>\n",
       "    <tr>\n",
       "      <th>8</th>\n",
       "      <td>8</td>\n",
       "      <td>011.176.901-99</td>\n",
       "      <td>1117690199</td>\n",
       "      <td>JOAO HENRIQUE HOLANDA CALDAS</td>\n",
       "      <td>SOCIO</td>\n",
       "      <td>03.738.203/0001-78</td>\n",
       "      <td>3738203000178</td>\n",
       "      <td>ALAGOAS COMUNICACAO LTDA - EPP</td>\n",
       "      <td>798501.44</td>\n",
       "      <td>NaN</td>\n",
       "      <td>798501.44</td>\n",
       "    </tr>\n",
       "    <tr>\n",
       "      <th>9</th>\n",
       "      <td>9</td>\n",
       "      <td>012.529.588-03</td>\n",
       "      <td>1252958803</td>\n",
       "      <td>CELSO UBIRAJARA RUSSOMANNO</td>\n",
       "      <td>SOCIO ADMINISTRADOR</td>\n",
       "      <td>14.883.329/0001-52</td>\n",
       "      <td>14883329000152</td>\n",
       "      <td>BAR E RESTAURANTE DO ALEMAO DE BRASILIA LTDA</td>\n",
       "      <td>1569045.57</td>\n",
       "      <td>NaN</td>\n",
       "      <td>1569045.57</td>\n",
       "    </tr>\n",
       "  </tbody>\n",
       "</table>\n",
       "</div>"
      ],
      "text/plain": [
       "   index    CPF_Deputado   CPF_limpo                        Nome_Deputado  \\\n",
       "0      0  003.527.486-72   352748672       BONIFACIO JOSE TAMM DE ANDRADA   \n",
       "1      1  005.648.349-04   564834904                        NELSON MEURER   \n",
       "2      2  006.053.872-49   605387249  ELCIONE THEREZINHA ZAHLUTH BARBALHO   \n",
       "3      3  006.053.872-49   605387249  ELCIONE THEREZINHA ZAHLUTH BARBALHO   \n",
       "4      4  006.053.872-49   605387249  ELCIONE THEREZINHA ZAHLUTH BARBALHO   \n",
       "5      5  006.490.396-61   649039661       MARCELO HENRIQUE TEIXEIRA DIAS   \n",
       "6      6  010.557.374-48  1055737448          PEDRO TORRES BRANDAO VILELA   \n",
       "7      7  011.021.253-34  1102125334         JULIO CESAR DE CARVALHO LIMA   \n",
       "8      8  011.176.901-99  1117690199         JOAO HENRIQUE HOLANDA CALDAS   \n",
       "9      9  012.529.588-03  1252958803           CELSO UBIRAJARA RUSSOMANNO   \n",
       "\n",
       "               Vinculo        CNPJ_Devedor      CNPJ_limpo  \\\n",
       "0                SOCIO  17.080.201/0001-49  17080201000149   \n",
       "1           PRESIDENTE  76.205.723/0001-99  76205723000199   \n",
       "2                SOCIO  04.218.335/0001-31   4218335000131   \n",
       "3                SOCIO  04.885.828/0001-25   4885828000125   \n",
       "4                SOCIO  05.143.490/0001-07   5143490000107   \n",
       "5  SOCIO ADMINISTRADOR  26.349.217/0001-03  26349217000103   \n",
       "6  SOCIO ADMINISTRADOR  12.480.976/0001-98  12480976000198   \n",
       "7  SOCIO ADMINISTRADOR  07.249.030/0001-85   7249030000185   \n",
       "8                SOCIO  03.738.203/0001-78   3738203000178   \n",
       "9  SOCIO ADMINISTRADOR  14.883.329/0001-52  14883329000152   \n",
       "\n",
       "                                        Nome_Devedor  \\\n",
       "0                   RADIO CORREIO DA SERRA LTDA - ME   \n",
       "1  COOPERATIVA DE ELETRIFICACAO RURAL DE FBO LIMI...   \n",
       "2                               DIARIOS DO PARA LTDA   \n",
       "3            RADIO CLUBE DO PARA PRC5 LIMITADA - EPP   \n",
       "4         RBA REDE BRASIL AMAZONIA DE TELEVISAO LTDA   \n",
       "5        VOICELIDER SOLUCOES EM TECNOLOGIA LTDA - ME   \n",
       "6                          AGROPECUARIA INDIANA LTDA   \n",
       "7                    TROPICAL FRUTOS CANAA LTDA - ME   \n",
       "8                     ALAGOAS COMUNICACAO LTDA - EPP   \n",
       "9       BAR E RESTAURANTE DO ALEMAO DE BRASILIA LTDA   \n",
       "\n",
       "   Valores_situacao_Irregular  Valores_situacao_Regular  Total_Devido  \n",
       "0                         NaN                 174685.85     174685.85  \n",
       "1                         NaN                 284281.14     284281.14  \n",
       "2                 10257674.85                6320913.48   16578588.33  \n",
       "3                  3061308.08                       NaN    3061308.08  \n",
       "4                 16551229.90                       NaN   16551229.90  \n",
       "5                    57041.10                       NaN      57041.10  \n",
       "6                         NaN                  53858.82      53858.82  \n",
       "7                         NaN                 180940.21     180940.21  \n",
       "8                   798501.44                       NaN     798501.44  \n",
       "9                  1569045.57                       NaN    1569045.57  "
      ]
     },
     "execution_count": 6,
     "metadata": {},
     "output_type": "execute_result"
    }
   ],
   "source": [
    "dividas_dep.reset_index().head(10)"
   ]
  },
  {
   "cell_type": "code",
   "execution_count": 7,
   "metadata": {},
   "outputs": [],
   "source": [
    "# converte campo para comparacoes futuras se necessario"
   ]
  },
  {
   "cell_type": "code",
   "execution_count": 8,
   "metadata": {},
   "outputs": [],
   "source": [
    "dividas_dep['CNPJ_limpo'] = dividas_dep.CNPJ_limpo.astype('float64')"
   ]
  },
  {
   "cell_type": "code",
   "execution_count": null,
   "metadata": {},
   "outputs": [],
   "source": []
  },
  {
   "cell_type": "code",
   "execution_count": 9,
   "metadata": {},
   "outputs": [],
   "source": [
    "# carrega dataframe com nomes de empresas com divida no Funrural"
   ]
  },
  {
   "cell_type": "code",
   "execution_count": 10,
   "metadata": {},
   "outputs": [],
   "source": [
    "funrural = pd.read_csv(\"funrural_csv.csv\",sep=';',encoding = 'latin_1')"
   ]
  },
  {
   "cell_type": "code",
   "execution_count": 11,
   "metadata": {},
   "outputs": [
    {
     "name": "stdout",
     "output_type": "stream",
     "text": [
      "<class 'pandas.core.frame.DataFrame'>\n",
      "RangeIndex: 7751 entries, 0 to 7750\n",
      "Data columns (total 1 columns):\n",
      "Razao_Social    7751 non-null object\n",
      "dtypes: object(1)\n",
      "memory usage: 30.3+ KB\n"
     ]
    }
   ],
   "source": [
    "funrural.info()"
   ]
  },
  {
   "cell_type": "code",
   "execution_count": 12,
   "metadata": {},
   "outputs": [
    {
     "data": {
      "text/html": [
       "<div>\n",
       "<style scoped>\n",
       "    .dataframe tbody tr th:only-of-type {\n",
       "        vertical-align: middle;\n",
       "    }\n",
       "\n",
       "    .dataframe tbody tr th {\n",
       "        vertical-align: top;\n",
       "    }\n",
       "\n",
       "    .dataframe thead th {\n",
       "        text-align: right;\n",
       "    }\n",
       "</style>\n",
       "<table border=\"1\" class=\"dataframe\">\n",
       "  <thead>\n",
       "    <tr style=\"text-align: right;\">\n",
       "      <th></th>\n",
       "      <th>index</th>\n",
       "      <th>Razao_Social</th>\n",
       "    </tr>\n",
       "  </thead>\n",
       "  <tbody>\n",
       "    <tr>\n",
       "      <th>0</th>\n",
       "      <td>0</td>\n",
       "      <td>INDUSTRIA DE LATICINIOS PALMEIRA DOS INDIOS S</td>\n",
       "    </tr>\n",
       "    <tr>\n",
       "      <th>1</th>\n",
       "      <td>1</td>\n",
       "      <td>INDUSTRIAL PORTO RICO S A</td>\n",
       "    </tr>\n",
       "    <tr>\n",
       "      <th>2</th>\n",
       "      <td>2</td>\n",
       "      <td>LAGINHA AGRO INDUSTRIAL S/A</td>\n",
       "    </tr>\n",
       "    <tr>\n",
       "      <th>3</th>\n",
       "      <td>3</td>\n",
       "      <td>AGRO INDUSTRIAL SAO GONCALO S A</td>\n",
       "    </tr>\n",
       "    <tr>\n",
       "      <th>4</th>\n",
       "      <td>4</td>\n",
       "      <td>DESTILARIA AUTONOMA PORTO ALEGRE LIMITADA</td>\n",
       "    </tr>\n",
       "    <tr>\n",
       "      <th>5</th>\n",
       "      <td>5</td>\n",
       "      <td>COOPERATIVA AGROPECURIA DE MAJOR ISIDORO</td>\n",
       "    </tr>\n",
       "    <tr>\n",
       "      <th>6</th>\n",
       "      <td>6</td>\n",
       "      <td>USINA SERRA GRANDE SA</td>\n",
       "    </tr>\n",
       "    <tr>\n",
       "      <th>7</th>\n",
       "      <td>7</td>\n",
       "      <td>CENTRAL ACUCAREIRA SANTO ANTONIO S A</td>\n",
       "    </tr>\n",
       "    <tr>\n",
       "      <th>8</th>\n",
       "      <td>8</td>\n",
       "      <td>TRIUNFO AGROINDUSTRIAL LTDA</td>\n",
       "    </tr>\n",
       "    <tr>\n",
       "      <th>9</th>\n",
       "      <td>9</td>\n",
       "      <td>JOAO ATHAYDE FILHO</td>\n",
       "    </tr>\n",
       "  </tbody>\n",
       "</table>\n",
       "</div>"
      ],
      "text/plain": [
       "   index                                   Razao_Social\n",
       "0      0  INDUSTRIA DE LATICINIOS PALMEIRA DOS INDIOS S\n",
       "1      1                      INDUSTRIAL PORTO RICO S A\n",
       "2      2                    LAGINHA AGRO INDUSTRIAL S/A\n",
       "3      3                AGRO INDUSTRIAL SAO GONCALO S A\n",
       "4      4      DESTILARIA AUTONOMA PORTO ALEGRE LIMITADA\n",
       "5      5       COOPERATIVA AGROPECURIA DE MAJOR ISIDORO\n",
       "6      6                          USINA SERRA GRANDE SA\n",
       "7      7           CENTRAL ACUCAREIRA SANTO ANTONIO S A\n",
       "8      8                    TRIUNFO AGROINDUSTRIAL LTDA\n",
       "9      9                             JOAO ATHAYDE FILHO"
      ]
     },
     "execution_count": 12,
     "metadata": {},
     "output_type": "execute_result"
    }
   ],
   "source": [
    "funrural.reset_index().head(10)"
   ]
  },
  {
   "cell_type": "code",
   "execution_count": null,
   "metadata": {},
   "outputs": [],
   "source": []
  },
  {
   "cell_type": "code",
   "execution_count": null,
   "metadata": {},
   "outputs": [],
   "source": [
    "# cria lista vazia "
   ]
  },
  {
   "cell_type": "code",
   "execution_count": 13,
   "metadata": {},
   "outputs": [],
   "source": [
    "pre_similares = []"
   ]
  },
  {
   "cell_type": "code",
   "execution_count": null,
   "metadata": {},
   "outputs": [],
   "source": []
  },
  {
   "cell_type": "code",
   "execution_count": 14,
   "metadata": {},
   "outputs": [],
   "source": [
    "# funcao para comparar strings - usa o modulo difflib (https://docs.python.org/2/library/difflib.html#module-difflib)\n",
    "def similar(a, b, d, e, f, g, h, i):\n",
    "    threshold = 0.8\n",
    "    c = SequenceMatcher(None, a, b).ratio() > threshold\n",
    "    pre_similares.append([a, b, c, d, e, f, g, h, i])\n",
    "    return \n",
    "\n",
    "# cria iteracao nas dividas dos deputados\n",
    "for i, row in dividas_dep.iterrows():\n",
    "    a = (row['Nome_Devedor'])\n",
    "    d = (row['CPF_Deputado'])\n",
    "    e = (row['CPF_limpo'])\n",
    "    f = (row['Nome_Deputado'])\n",
    "    g = (row['Vinculo'])\n",
    "    h = (row['CNPJ_Devedor'])\n",
    "    i = (row['CNPJ_limpo'])\n",
    "    # abre outra iteracao nos nomes de empresas\n",
    "    for i, row in funrural.iterrows():\n",
    "        b = (row['Razao_Social'])\n",
    "        # chama funcao para comparar cada linha\n",
    "        similar(a, b, d, e, f, g, h, i)"
   ]
  },
  {
   "cell_type": "code",
   "execution_count": null,
   "metadata": {},
   "outputs": [],
   "source": []
  },
  {
   "cell_type": "code",
   "execution_count": 15,
   "metadata": {},
   "outputs": [],
   "source": [
    "# cria dataframe com os resultados"
   ]
  },
  {
   "cell_type": "code",
   "execution_count": 16,
   "metadata": {},
   "outputs": [],
   "source": [
    "similares = pd.DataFrame(pre_similares, columns = ['Nome_Devedor', 'Razao_Social', 'Simular_ou_nao', 'CPF', 'CPF_limpo', 'Nome_deputado', 'Vinculo', 'CNPJ_Devedor', 'CNPJ_limpo'])"
   ]
  },
  {
   "cell_type": "code",
   "execution_count": 17,
   "metadata": {},
   "outputs": [],
   "source": [
    "# exclui linhas sem similaridade"
   ]
  },
  {
   "cell_type": "code",
   "execution_count": 18,
   "metadata": {},
   "outputs": [],
   "source": [
    "similares = similares[(similares['Simular_ou_nao'] == True)]"
   ]
  },
  {
   "cell_type": "code",
   "execution_count": 19,
   "metadata": {},
   "outputs": [
    {
     "data": {
      "text/html": [
       "<div>\n",
       "<style scoped>\n",
       "    .dataframe tbody tr th:only-of-type {\n",
       "        vertical-align: middle;\n",
       "    }\n",
       "\n",
       "    .dataframe tbody tr th {\n",
       "        vertical-align: top;\n",
       "    }\n",
       "\n",
       "    .dataframe thead th {\n",
       "        text-align: right;\n",
       "    }\n",
       "</style>\n",
       "<table border=\"1\" class=\"dataframe\">\n",
       "  <thead>\n",
       "    <tr style=\"text-align: right;\">\n",
       "      <th></th>\n",
       "      <th>index</th>\n",
       "      <th>Nome_Devedor</th>\n",
       "      <th>Razao_Social</th>\n",
       "      <th>Simular_ou_nao</th>\n",
       "      <th>CPF</th>\n",
       "      <th>CPF_limpo</th>\n",
       "      <th>Nome_deputado</th>\n",
       "      <th>Vinculo</th>\n",
       "      <th>CNPJ_Devedor</th>\n",
       "      <th>CNPJ_limpo</th>\n",
       "    </tr>\n",
       "  </thead>\n",
       "  <tbody>\n",
       "    <tr>\n",
       "      <th>0</th>\n",
       "      <td>46541</td>\n",
       "      <td>AGROPECUARIA INDIANA LTDA</td>\n",
       "      <td>AGROPECUARIA INDIANA LTDA</td>\n",
       "      <td>True</td>\n",
       "      <td>010.557.374-48</td>\n",
       "      <td>1055737448</td>\n",
       "      <td>PEDRO TORRES BRANDAO VILELA</td>\n",
       "      <td>SOCIO ADMINISTRADOR</td>\n",
       "      <td>12.480.976/0001-98</td>\n",
       "      <td>35</td>\n",
       "    </tr>\n",
       "    <tr>\n",
       "      <th>1</th>\n",
       "      <td>46956</td>\n",
       "      <td>AGROPECUARIA INDIANA LTDA</td>\n",
       "      <td>AGROPECUARIA PALMA LTDA</td>\n",
       "      <td>True</td>\n",
       "      <td>010.557.374-48</td>\n",
       "      <td>1055737448</td>\n",
       "      <td>PEDRO TORRES BRANDAO VILELA</td>\n",
       "      <td>SOCIO ADMINISTRADOR</td>\n",
       "      <td>12.480.976/0001-98</td>\n",
       "      <td>450</td>\n",
       "    </tr>\n",
       "    <tr>\n",
       "      <th>2</th>\n",
       "      <td>47117</td>\n",
       "      <td>AGROPECUARIA INDIANA LTDA</td>\n",
       "      <td>AGROPECUARIA LILIANA LTDA</td>\n",
       "      <td>True</td>\n",
       "      <td>010.557.374-48</td>\n",
       "      <td>1055737448</td>\n",
       "      <td>PEDRO TORRES BRANDAO VILELA</td>\n",
       "      <td>SOCIO ADMINISTRADOR</td>\n",
       "      <td>12.480.976/0001-98</td>\n",
       "      <td>611</td>\n",
       "    </tr>\n",
       "    <tr>\n",
       "      <th>3</th>\n",
       "      <td>48764</td>\n",
       "      <td>AGROPECUARIA INDIANA LTDA</td>\n",
       "      <td>AGROPECUARIA NATAL LTDA</td>\n",
       "      <td>True</td>\n",
       "      <td>010.557.374-48</td>\n",
       "      <td>1055737448</td>\n",
       "      <td>PEDRO TORRES BRANDAO VILELA</td>\n",
       "      <td>SOCIO ADMINISTRADOR</td>\n",
       "      <td>12.480.976/0001-98</td>\n",
       "      <td>2258</td>\n",
       "    </tr>\n",
       "    <tr>\n",
       "      <th>4</th>\n",
       "      <td>49631</td>\n",
       "      <td>AGROPECUARIA INDIANA LTDA</td>\n",
       "      <td>AGROPECUARIA VIDI LTDA</td>\n",
       "      <td>True</td>\n",
       "      <td>010.557.374-48</td>\n",
       "      <td>1055737448</td>\n",
       "      <td>PEDRO TORRES BRANDAO VILELA</td>\n",
       "      <td>SOCIO ADMINISTRADOR</td>\n",
       "      <td>12.480.976/0001-98</td>\n",
       "      <td>3125</td>\n",
       "    </tr>\n",
       "    <tr>\n",
       "      <th>5</th>\n",
       "      <td>50938</td>\n",
       "      <td>AGROPECUARIA INDIANA LTDA</td>\n",
       "      <td>AGROPECUARIA NOVA VIDA LTDA</td>\n",
       "      <td>True</td>\n",
       "      <td>010.557.374-48</td>\n",
       "      <td>1055737448</td>\n",
       "      <td>PEDRO TORRES BRANDAO VILELA</td>\n",
       "      <td>SOCIO ADMINISTRADOR</td>\n",
       "      <td>12.480.976/0001-98</td>\n",
       "      <td>4432</td>\n",
       "    </tr>\n",
       "    <tr>\n",
       "      <th>6</th>\n",
       "      <td>51196</td>\n",
       "      <td>AGROPECUARIA INDIANA LTDA</td>\n",
       "      <td>AGROPECUARIA NOVA ERA LTDA</td>\n",
       "      <td>True</td>\n",
       "      <td>010.557.374-48</td>\n",
       "      <td>1055737448</td>\n",
       "      <td>PEDRO TORRES BRANDAO VILELA</td>\n",
       "      <td>SOCIO ADMINISTRADOR</td>\n",
       "      <td>12.480.976/0001-98</td>\n",
       "      <td>4690</td>\n",
       "    </tr>\n",
       "    <tr>\n",
       "      <th>7</th>\n",
       "      <td>51449</td>\n",
       "      <td>AGROPECUARIA INDIANA LTDA</td>\n",
       "      <td>AGROPECUARIA 2N LTDA</td>\n",
       "      <td>True</td>\n",
       "      <td>010.557.374-48</td>\n",
       "      <td>1055737448</td>\n",
       "      <td>PEDRO TORRES BRANDAO VILELA</td>\n",
       "      <td>SOCIO ADMINISTRADOR</td>\n",
       "      <td>12.480.976/0001-98</td>\n",
       "      <td>4943</td>\n",
       "    </tr>\n",
       "    <tr>\n",
       "      <th>8</th>\n",
       "      <td>51481</td>\n",
       "      <td>AGROPECUARIA INDIANA LTDA</td>\n",
       "      <td>AGROPECUARIA ACIR LTDA</td>\n",
       "      <td>True</td>\n",
       "      <td>010.557.374-48</td>\n",
       "      <td>1055737448</td>\n",
       "      <td>PEDRO TORRES BRANDAO VILELA</td>\n",
       "      <td>SOCIO ADMINISTRADOR</td>\n",
       "      <td>12.480.976/0001-98</td>\n",
       "      <td>4975</td>\n",
       "    </tr>\n",
       "    <tr>\n",
       "      <th>9</th>\n",
       "      <td>51656</td>\n",
       "      <td>AGROPECUARIA INDIANA LTDA</td>\n",
       "      <td>AGROPECUARIA TAMARANA LTDA</td>\n",
       "      <td>True</td>\n",
       "      <td>010.557.374-48</td>\n",
       "      <td>1055737448</td>\n",
       "      <td>PEDRO TORRES BRANDAO VILELA</td>\n",
       "      <td>SOCIO ADMINISTRADOR</td>\n",
       "      <td>12.480.976/0001-98</td>\n",
       "      <td>5150</td>\n",
       "    </tr>\n",
       "  </tbody>\n",
       "</table>\n",
       "</div>"
      ],
      "text/plain": [
       "   index               Nome_Devedor                 Razao_Social  \\\n",
       "0  46541  AGROPECUARIA INDIANA LTDA    AGROPECUARIA INDIANA LTDA   \n",
       "1  46956  AGROPECUARIA INDIANA LTDA      AGROPECUARIA PALMA LTDA   \n",
       "2  47117  AGROPECUARIA INDIANA LTDA    AGROPECUARIA LILIANA LTDA   \n",
       "3  48764  AGROPECUARIA INDIANA LTDA      AGROPECUARIA NATAL LTDA   \n",
       "4  49631  AGROPECUARIA INDIANA LTDA       AGROPECUARIA VIDI LTDA   \n",
       "5  50938  AGROPECUARIA INDIANA LTDA  AGROPECUARIA NOVA VIDA LTDA   \n",
       "6  51196  AGROPECUARIA INDIANA LTDA   AGROPECUARIA NOVA ERA LTDA   \n",
       "7  51449  AGROPECUARIA INDIANA LTDA         AGROPECUARIA 2N LTDA   \n",
       "8  51481  AGROPECUARIA INDIANA LTDA       AGROPECUARIA ACIR LTDA   \n",
       "9  51656  AGROPECUARIA INDIANA LTDA   AGROPECUARIA TAMARANA LTDA   \n",
       "\n",
       "   Simular_ou_nao             CPF   CPF_limpo                Nome_deputado  \\\n",
       "0            True  010.557.374-48  1055737448  PEDRO TORRES BRANDAO VILELA   \n",
       "1            True  010.557.374-48  1055737448  PEDRO TORRES BRANDAO VILELA   \n",
       "2            True  010.557.374-48  1055737448  PEDRO TORRES BRANDAO VILELA   \n",
       "3            True  010.557.374-48  1055737448  PEDRO TORRES BRANDAO VILELA   \n",
       "4            True  010.557.374-48  1055737448  PEDRO TORRES BRANDAO VILELA   \n",
       "5            True  010.557.374-48  1055737448  PEDRO TORRES BRANDAO VILELA   \n",
       "6            True  010.557.374-48  1055737448  PEDRO TORRES BRANDAO VILELA   \n",
       "7            True  010.557.374-48  1055737448  PEDRO TORRES BRANDAO VILELA   \n",
       "8            True  010.557.374-48  1055737448  PEDRO TORRES BRANDAO VILELA   \n",
       "9            True  010.557.374-48  1055737448  PEDRO TORRES BRANDAO VILELA   \n",
       "\n",
       "               Vinculo        CNPJ_Devedor  CNPJ_limpo  \n",
       "0  SOCIO ADMINISTRADOR  12.480.976/0001-98          35  \n",
       "1  SOCIO ADMINISTRADOR  12.480.976/0001-98         450  \n",
       "2  SOCIO ADMINISTRADOR  12.480.976/0001-98         611  \n",
       "3  SOCIO ADMINISTRADOR  12.480.976/0001-98        2258  \n",
       "4  SOCIO ADMINISTRADOR  12.480.976/0001-98        3125  \n",
       "5  SOCIO ADMINISTRADOR  12.480.976/0001-98        4432  \n",
       "6  SOCIO ADMINISTRADOR  12.480.976/0001-98        4690  \n",
       "7  SOCIO ADMINISTRADOR  12.480.976/0001-98        4943  \n",
       "8  SOCIO ADMINISTRADOR  12.480.976/0001-98        4975  \n",
       "9  SOCIO ADMINISTRADOR  12.480.976/0001-98        5150  "
      ]
     },
     "execution_count": 19,
     "metadata": {},
     "output_type": "execute_result"
    }
   ],
   "source": [
    "similares.reset_index().head(10)"
   ]
  },
  {
   "cell_type": "code",
   "execution_count": 20,
   "metadata": {},
   "outputs": [
    {
     "name": "stdout",
     "output_type": "stream",
     "text": [
      "<class 'pandas.core.frame.DataFrame'>\n",
      "Int64Index: 94 entries, 46541 to 788317\n",
      "Data columns (total 9 columns):\n",
      "Nome_Devedor      94 non-null object\n",
      "Razao_Social      94 non-null object\n",
      "Simular_ou_nao    94 non-null bool\n",
      "CPF               94 non-null object\n",
      "CPF_limpo         94 non-null int64\n",
      "Nome_deputado     94 non-null object\n",
      "Vinculo           94 non-null object\n",
      "CNPJ_Devedor      94 non-null object\n",
      "CNPJ_limpo        94 non-null int64\n",
      "dtypes: bool(1), int64(2), object(6)\n",
      "memory usage: 4.5+ KB\n"
     ]
    }
   ],
   "source": [
    "similares.info()"
   ]
  },
  {
   "cell_type": "code",
   "execution_count": null,
   "metadata": {},
   "outputs": [],
   "source": []
  },
  {
   "cell_type": "code",
   "execution_count": 21,
   "metadata": {},
   "outputs": [],
   "source": [
    "similares.to_csv('teste_funrural_similares.csv')"
   ]
  },
  {
   "cell_type": "code",
   "execution_count": null,
   "metadata": {},
   "outputs": [],
   "source": []
  },
  {
   "cell_type": "markdown",
   "metadata": {},
   "source": [
    "### Metodo pode ser usado tambem para procurar empresas com mais de um CNPJ, mas que tem o mesmo nome (filiais)"
   ]
  },
  {
   "cell_type": "markdown",
   "metadata": {},
   "source": [
    "### Um uso pratico é nas doacoes eleitorais no repositorio de dados eleitorais (http://www.tse.jus.br/hotSites/pesquisas-eleitorais/resultados.html) e cruzar a lista de nomes de doadores com outros nomes de empresas em outras bases"
   ]
  },
  {
   "cell_type": "code",
   "execution_count": null,
   "metadata": {},
   "outputs": [],
   "source": []
  },
  {
   "cell_type": "markdown",
   "metadata": {},
   "source": [
    "### Ou na busca por CNPJ isolar os 8 primeiros dígitos (inscricao da empresa no Cadastro Nacional da Pessoa Juridica) para encontrar filiais"
   ]
  },
  {
   "cell_type": "markdown",
   "metadata": {},
   "source": [
    "### Ex -> comeco = CNPJ_doador[0:8]"
   ]
  },
  {
   "cell_type": "markdown",
   "metadata": {},
   "source": [
    "### O cnpj tem 14 digítos - os 8 iniciais e mais 4 que correspondem às filiais (até 9999) e mais dois digitos de verificacao"
   ]
  },
  {
   "cell_type": "markdown",
   "metadata": {},
   "source": [
    "# ;)"
   ]
  }
 ],
 "metadata": {
  "kernelspec": {
   "display_name": "Python 3",
   "language": "python",
   "name": "python3"
  },
  "language_info": {
   "codemirror_mode": {
    "name": "ipython",
    "version": 3
   },
   "file_extension": ".py",
   "mimetype": "text/x-python",
   "name": "python",
   "nbconvert_exporter": "python",
   "pygments_lexer": "ipython3",
   "version": "3.6.2"
  }
 },
 "nbformat": 4,
 "nbformat_minor": 2
}
